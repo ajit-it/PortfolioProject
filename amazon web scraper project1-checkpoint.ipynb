{
 "cells": [
  {
   "cell_type": "code",
   "execution_count": 8,
   "id": "77e4f194-c7bf-4edf-a5b4-826bb78f3605",
   "metadata": {},
   "outputs": [],
   "source": [
    "# import libraries \n",
    "\n",
    "from bs4 import BeautifulSoup\n",
    "import requests\n",
    "import time\n",
    "import datetime\n",
    "\n",
    "import smtplib"
   ]
  },
  {
   "cell_type": "code",
   "execution_count": 9,
   "id": "a1e89231-e0ba-4810-81c6-cc6e6a21b2e9",
   "metadata": {},
   "outputs": [
    {
     "name": "stdout",
     "output_type": "stream",
     "text": [
      "\n",
      "                  Heybroh Men's Regular Fit T-Shirt Talk Data to Me - Data Scientist Funny 100% Cotton T-Shirt\n",
      "                 \n",
      "\n",
      "                    899\n",
      "                   \n"
     ]
    }
   ],
   "source": [
    "# Connect to Website and pull in data\n",
    "\n",
    "URL = 'https://www.amazon.in/Heybroh-Mens-Regular-T-Shirt-Talk/dp/B0BTMW4ZT7/ref=sr_1_7?crid=1C49IH1IHWL7F&dib=eyJ2IjoiMSJ9.HnSatrwm0oD8X6gzPd1g4zHiqB8oSGZg-vlSTzoVZPuHtqPTuMWMdxkp04C9wXYvmcZyxCI1WyO0pBfXIcbbhqVKkGMU8QCyn6C2E8mG3-gobgnNBTML57WIEEqIVmK1kyBZ6DsonQUIEGNdKHamIE88Sp3lUz4BvKcJc4r-hgcnpSXpsonLo9t8OL671gcklw7tasa7MgAUPAb3FatTLy3jT8HMAqNStZDEHpa46gF6890Oq3cmzminXMpIFAWqP8jBE5bnXpAdUKYSAagccN7rzfKUc-5vt4K7pgLWdes.alwQ5TM07ig4vkM_Fa4N6YNM3DJfGqpUfhLP9cLFmbY&dib_tag=se&keywords=data%2Banalyst%2Btshirt&qid=1758267846&sprefix=Data%2BAnalyst%2B%2Caps%2C324&sr=8-7&th=1&psc=1'\n",
    "\n",
    "headers = {\"User-Agent\": \"Mozilla/5.0 (Windows NT 10.0; Win64; x64) AppleWebKit/537.36 (KHTML, like Gecko) Chrome/78.0.3904.108 Safari/537.36\", \"Accept-Encoding\":\"gzip, deflate\", \"Accept\":\"text/html,application/xhtml+xml,application/xml;q=0.9,*/*;q=0.8\", \"DNT\":\"1\",\"Connection\":\"close\", \"Upgrade-Insecure-Requests\":\"1\"}\n",
    "\n",
    "page = requests.get(URL, headers=headers)\n",
    "\n",
    "\n",
    "# Parse the raw HTML content from the page\n",
    "soup1 = BeautifulSoup(page.content, \"html.parser\")\n",
    "\n",
    "\n",
    "# Make the HTML look nicer (prettify) and parse it again for better formatting\n",
    "soup2 = BeautifulSoup(soup1.prettify(), \"html.parser\")\n",
    "\n",
    "\n",
    "# Extract product title\n",
    "title = soup2.find(id='productTitle').get_text()\n",
    "\n",
    "\n",
    "# Extract product price \n",
    "price = soup2.find(\"span\", class_=\"a-price-whole\").get_text()\n",
    "\n",
    "\n",
    "print(title)\n",
    "print(price)"
   ]
  },
  {
   "cell_type": "code",
   "execution_count": 10,
   "id": "87b4bf88-2fdc-49e5-a223-389f0f7e9220",
   "metadata": {},
   "outputs": [
    {
     "name": "stdout",
     "output_type": "stream",
     "text": [
      "Heybroh Men's Regular Fit T-Shirt Talk Data to Me - Data Scientist Funny 100% Cotton T-Shirt\n",
      "899\n"
     ]
    }
   ],
   "source": [
    "# Clean up the data a little bit\n",
    "\n",
    "price = price.strip()\n",
    "title = title.strip()\n",
    "\n",
    "print(title)\n",
    "print(price)"
   ]
  },
  {
   "cell_type": "code",
   "execution_count": 11,
   "id": "3a86926c-e846-446e-98b7-9f57fd938673",
   "metadata": {},
   "outputs": [
    {
     "name": "stdout",
     "output_type": "stream",
     "text": [
      "2025-10-06\n"
     ]
    }
   ],
   "source": [
    "# Create a Timestamp for your output to track when data was collected\n",
    "\n",
    "import datetime\n",
    "\n",
    "today = datetime.date.today()\n",
    "\n",
    "print(today)"
   ]
  },
  {
   "cell_type": "code",
   "execution_count": 12,
   "id": "581d17b8-6eec-4c95-af68-e90b3d04010e",
   "metadata": {},
   "outputs": [],
   "source": [
    "# Create CSV and write headers and data into the file\n",
    "\n",
    "import csv \n",
    "\n",
    "header = ['Title', 'Price', 'Date']\n",
    "data = [title, price, today]\n",
    "\n",
    "\n",
    "with open('amazonwebscraperp1.csv', 'w', newline='', encoding='UTF8') as f:\n",
    "    writer = csv.writer(f)\n",
    "    writer.writerow(header)\n",
    "    writer.writerow(data)\n",
    "    "
   ]
  },
  {
   "cell_type": "code",
   "execution_count": 13,
   "id": "b7169e26-bb63-41a4-94d6-7efc08043ec5",
   "metadata": {},
   "outputs": [
    {
     "name": "stdout",
     "output_type": "stream",
     "text": [
      "                                               Title  Price        Date\n",
      "0  Heybroh Men's Regular Fit T-Shirt Talk Data to...    899  2025-10-06\n"
     ]
    }
   ],
   "source": [
    "import pandas as pd\n",
    "\n",
    "df = pd.read_csv(r\"C:\\Users\\rahul\\amazonwebscraperp1.csv\")\n",
    "\n",
    "print(df)"
   ]
  },
  {
   "cell_type": "code",
   "execution_count": 15,
   "id": "34870830-f075-4e47-b37b-bbdb04f7f8af",
   "metadata": {},
   "outputs": [],
   "source": [
    "#Now we are appending data to the csv\n",
    "\n",
    "with open('amazonwebscraperp1.csv', 'a+', newline='', encoding='UTF8') as f:\n",
    "    writer = csv.writer(f)\n",
    "    writer.writerow(data)"
   ]
  },
  {
   "cell_type": "code",
   "execution_count": 16,
   "id": "f0f4b0c4-cb4e-4428-ae25-12f6ea92878a",
   "metadata": {},
   "outputs": [],
   "source": [
    "#Combine all of the above code into one function\n",
    "\n",
    "\n",
    "def check_price():\n",
    "    URL = 'https://www.amazon.in/Heybroh-Mens-Regular-T-Shirt-Talk/dp/B0BTMW4ZT7/ref=sr_1_7?crid=1C49IH1IHWL7F&dib=eyJ2IjoiMSJ9.HnSatrwm0oD8X6gzPd1g4zHiqB8oSGZg-vlSTzoVZPuHtqPTuMWMdxkp04C9wXYvmcZyxCI1WyO0pBfXIcbbhqVKkGMU8QCyn6C2E8mG3-gobgnNBTML57WIEEqIVmK1kyBZ6DsonQUIEGNdKHamIE88Sp3lUz4BvKcJc4r-hgcnpSXpsonLo9t8OL671gcklw7tasa7MgAUPAb3FatTLy3jT8HMAqNStZDEHpa46gF6890Oq3cmzminXMpIFAWqP8jBE5bnXpAdUKYSAagccN7rzfKUc-5vt4K7pgLWdes.alwQ5TM07ig4vkM_Fa4N6YNM3DJfGqpUfhLP9cLFmbY&dib_tag=se&keywords=data%2Banalyst%2Btshirt&qid=1758267846&sprefix=Data%2BAnalyst%2B%2Caps%2C324&sr=8-7&th=1&psc=1'\n",
    "\n",
    "    headers = {\"User-Agent\": \"Mozilla/5.0 (Windows NT 10.0; Win64; x64) AppleWebKit/537.36 (KHTML, like Gecko) Chrome/78.0.3904.108 Safari/537.36\", \"Accept-Encoding\":\"gzip, deflate\", \"Accept\":\"text/html,application/xhtml+xml,application/xml;q=0.9,*/*;q=0.8\", \"DNT\":\"1\",\"Connection\":\"close\", \"Upgrade-Insecure-Requests\":\"1\"}\n",
    "\n",
    "    page = requests.get(URL, headers=headers)\n",
    "\n",
    "    soup1 = BeautifulSoup(page.content, \"html.parser\")\n",
    "\n",
    "    soup2 = BeautifulSoup(soup1.prettify(), \"html.parser\")\n",
    "\n",
    "    title = soup2.find(id='productTitle').get_text()\n",
    "\n",
    "    price = soup2.find(\"span\", class_=\"a-price-whole\").get_text()\n",
    "\n",
    "    price = price.strip()[1:]\n",
    "    title = title.strip()\n",
    "\n",
    "    import datetime\n",
    "\n",
    "    today = datetime.date.today()\n",
    "    \n",
    "    import csv \n",
    "\n",
    "    header = ['Title', 'Price', 'Date']\n",
    "    data = [title, price, today]\n",
    "\n",
    "    with open('amazonwebscraperp1.csv', 'a+', newline='', encoding='UTF8') as f:\n",
    "        writer = csv.writer(f)\n",
    "        writer.writerow(data)\n",
    " "
   ]
  },
  {
   "cell_type": "code",
   "execution_count": null,
   "id": "9c1369d8-617e-4a47-86a7-1380ae98997b",
   "metadata": {},
   "outputs": [],
   "source": [
    "# Runs check_price after a set time and inputs data into your CSV\n",
    "\n",
    "while(True):\n",
    "    check_price()\n",
    "    time.sleep(86400)"
   ]
  },
  {
   "cell_type": "code",
   "execution_count": 18,
   "id": "29f97dbd-a265-4888-a5a2-a67303235027",
   "metadata": {},
   "outputs": [
    {
     "name": "stdout",
     "output_type": "stream",
     "text": [
      "                                               Title  Price        Date\n",
      "0  Heybroh Men's Regular Fit T-Shirt Talk Data to...    899  2025-10-06\n",
      "1  Heybroh Men's Regular Fit T-Shirt Talk Data to...    899  2025-10-06\n",
      "2  Heybroh Men's Regular Fit T-Shirt Talk Data to...     99  2025-10-06\n",
      "3  Heybroh Men's Regular Fit T-Shirt Talk Data to...     99  2025-10-06\n",
      "4  Heybroh Men's Regular Fit T-Shirt Talk Data to...     99  2025-10-06\n",
      "5  Heybroh Men's Regular Fit T-Shirt Talk Data to...     99  2025-10-06\n",
      "6  Heybroh Men's Regular Fit T-Shirt Talk Data to...     99  2025-10-06\n"
     ]
    }
   ],
   "source": [
    "import pandas as pd\n",
    "\n",
    "df = pd.read_csv(r'C:\\Users\\rahul\\amazonwebscraperp1.csv')\n",
    "print(df)"
   ]
  },
  {
   "cell_type": "code",
   "execution_count": null,
   "id": "ef0929c8-44ff-4cd7-8b0c-d5e32b4548e8",
   "metadata": {},
   "outputs": [],
   "source": []
  },
  {
   "cell_type": "code",
   "execution_count": null,
   "id": "86344d57-b4df-4fdf-9843-7bddfd671c3d",
   "metadata": {},
   "outputs": [],
   "source": []
  }
 ],
 "metadata": {
  "kernelspec": {
   "display_name": "Python [conda env:base] *",
   "language": "python",
   "name": "conda-base-py"
  },
  "language_info": {
   "codemirror_mode": {
    "name": "ipython",
    "version": 3
   },
   "file_extension": ".py",
   "mimetype": "text/x-python",
   "name": "python",
   "nbconvert_exporter": "python",
   "pygments_lexer": "ipython3",
   "version": "3.13.5"
  }
 },
 "nbformat": 4,
 "nbformat_minor": 5
}
